{
  "nbformat": 4,
  "nbformat_minor": 0,
  "metadata": {
    "colab": {
      "name": "SalaryPrediction.ipynb",
      "provenance": [],
      "collapsed_sections": []
    },
    "kernelspec": {
      "name": "python3",
      "display_name": "Python 3"
    }
  },
  "cells": [
    {
      "cell_type": "code",
      "metadata": {
        "id": "2QQx-WOcs4HO"
      },
      "source": [
        "import pandas as pd\n",
        "import numpy as np\n",
        "import matplotlib.pyplot as plt"
      ],
      "execution_count": 64,
      "outputs": []
    },
    {
      "cell_type": "code",
      "metadata": {
        "colab": {
          "base_uri": "https://localhost:8080/"
        },
        "id": "jn30j6FVvBcg",
        "outputId": "a4978138-a3e2-4ae2-c189-733f4db5b168"
      },
      "source": [
        "df= pd.read_csv(r\"/content/Salary_Data.csv\")\n",
        "print(df)"
      ],
      "execution_count": 65,
      "outputs": [
        {
          "output_type": "stream",
          "text": [
            "    YearsExperience    Salary\n",
            "0               1.1   39343.0\n",
            "1               1.3   46205.0\n",
            "2               1.5   37731.0\n",
            "3               2.0   43525.0\n",
            "4               2.2   39891.0\n",
            "5               2.9   56642.0\n",
            "6               3.0   60150.0\n",
            "7               3.2   54445.0\n",
            "8               3.2   64445.0\n",
            "9               3.7   57189.0\n",
            "10              3.9   63218.0\n",
            "11              4.0   55794.0\n",
            "12              4.0   56957.0\n",
            "13              4.1   57081.0\n",
            "14              4.5   61111.0\n",
            "15              4.9   67938.0\n",
            "16              5.1   66029.0\n",
            "17              5.3   83088.0\n",
            "18              5.9   81363.0\n",
            "19              6.0   93940.0\n",
            "20              6.8   91738.0\n",
            "21              7.1   98273.0\n",
            "22              7.9  101302.0\n",
            "23              8.2  113812.0\n",
            "24              8.7  109431.0\n",
            "25              9.0  105582.0\n",
            "26              9.5  116969.0\n",
            "27              9.6  112635.0\n",
            "28             10.3  122391.0\n",
            "29             10.5  121872.0\n"
          ],
          "name": "stdout"
        }
      ]
    },
    {
      "cell_type": "code",
      "metadata": {
        "colab": {
          "base_uri": "https://localhost:8080/",
          "height": 514
        },
        "id": "qG8Fmo4evXlZ",
        "outputId": "c67a4517-8305-457f-c5b4-68c28dbee445"
      },
      "source": [
        "df.head(15)"
      ],
      "execution_count": 66,
      "outputs": [
        {
          "output_type": "execute_result",
          "data": {
            "text/html": [
              "<div>\n",
              "<style scoped>\n",
              "    .dataframe tbody tr th:only-of-type {\n",
              "        vertical-align: middle;\n",
              "    }\n",
              "\n",
              "    .dataframe tbody tr th {\n",
              "        vertical-align: top;\n",
              "    }\n",
              "\n",
              "    .dataframe thead th {\n",
              "        text-align: right;\n",
              "    }\n",
              "</style>\n",
              "<table border=\"1\" class=\"dataframe\">\n",
              "  <thead>\n",
              "    <tr style=\"text-align: right;\">\n",
              "      <th></th>\n",
              "      <th>YearsExperience</th>\n",
              "      <th>Salary</th>\n",
              "    </tr>\n",
              "  </thead>\n",
              "  <tbody>\n",
              "    <tr>\n",
              "      <th>0</th>\n",
              "      <td>1.1</td>\n",
              "      <td>39343.0</td>\n",
              "    </tr>\n",
              "    <tr>\n",
              "      <th>1</th>\n",
              "      <td>1.3</td>\n",
              "      <td>46205.0</td>\n",
              "    </tr>\n",
              "    <tr>\n",
              "      <th>2</th>\n",
              "      <td>1.5</td>\n",
              "      <td>37731.0</td>\n",
              "    </tr>\n",
              "    <tr>\n",
              "      <th>3</th>\n",
              "      <td>2.0</td>\n",
              "      <td>43525.0</td>\n",
              "    </tr>\n",
              "    <tr>\n",
              "      <th>4</th>\n",
              "      <td>2.2</td>\n",
              "      <td>39891.0</td>\n",
              "    </tr>\n",
              "    <tr>\n",
              "      <th>5</th>\n",
              "      <td>2.9</td>\n",
              "      <td>56642.0</td>\n",
              "    </tr>\n",
              "    <tr>\n",
              "      <th>6</th>\n",
              "      <td>3.0</td>\n",
              "      <td>60150.0</td>\n",
              "    </tr>\n",
              "    <tr>\n",
              "      <th>7</th>\n",
              "      <td>3.2</td>\n",
              "      <td>54445.0</td>\n",
              "    </tr>\n",
              "    <tr>\n",
              "      <th>8</th>\n",
              "      <td>3.2</td>\n",
              "      <td>64445.0</td>\n",
              "    </tr>\n",
              "    <tr>\n",
              "      <th>9</th>\n",
              "      <td>3.7</td>\n",
              "      <td>57189.0</td>\n",
              "    </tr>\n",
              "    <tr>\n",
              "      <th>10</th>\n",
              "      <td>3.9</td>\n",
              "      <td>63218.0</td>\n",
              "    </tr>\n",
              "    <tr>\n",
              "      <th>11</th>\n",
              "      <td>4.0</td>\n",
              "      <td>55794.0</td>\n",
              "    </tr>\n",
              "    <tr>\n",
              "      <th>12</th>\n",
              "      <td>4.0</td>\n",
              "      <td>56957.0</td>\n",
              "    </tr>\n",
              "    <tr>\n",
              "      <th>13</th>\n",
              "      <td>4.1</td>\n",
              "      <td>57081.0</td>\n",
              "    </tr>\n",
              "    <tr>\n",
              "      <th>14</th>\n",
              "      <td>4.5</td>\n",
              "      <td>61111.0</td>\n",
              "    </tr>\n",
              "  </tbody>\n",
              "</table>\n",
              "</div>"
            ],
            "text/plain": [
              "    YearsExperience   Salary\n",
              "0               1.1  39343.0\n",
              "1               1.3  46205.0\n",
              "2               1.5  37731.0\n",
              "3               2.0  43525.0\n",
              "4               2.2  39891.0\n",
              "5               2.9  56642.0\n",
              "6               3.0  60150.0\n",
              "7               3.2  54445.0\n",
              "8               3.2  64445.0\n",
              "9               3.7  57189.0\n",
              "10              3.9  63218.0\n",
              "11              4.0  55794.0\n",
              "12              4.0  56957.0\n",
              "13              4.1  57081.0\n",
              "14              4.5  61111.0"
            ]
          },
          "metadata": {
            "tags": []
          },
          "execution_count": 66
        }
      ]
    },
    {
      "cell_type": "code",
      "metadata": {
        "colab": {
          "base_uri": "https://localhost:8080/",
          "height": 279
        },
        "id": "RNxA3BU6v7gQ",
        "outputId": "bb5d83b6-42ac-44d5-ed62-5786cb8eb669"
      },
      "source": [
        "plt.scatter(df['YearsExperience'],df['Salary'])\n",
        "plt.xlabel('Years of Experience')\n",
        "plt.ylabel('Salary')\n",
        "plt.show()"
      ],
      "execution_count": 67,
      "outputs": [
        {
          "output_type": "display_data",
          "data": {
            "image/png": "[encoded data removed]",
            "text/plain": [
              "<Figure size 432x288 with 1 Axes>"
            ]
          },
          "metadata": {
            "tags": [],
            "needs_background": "light"
          }
        }
      ]
    },
    {
      "cell_type": "code",
      "metadata": {
        "id": "0sdedFLNBaws"
      },
      "source": [
        "X=df.iloc[:,:-1].values\n",
        "y=df.iloc[:,-1].values"
      ],
      "execution_count": 68,
      "outputs": []
    },
    {
      "cell_type": "code",
      "metadata": {
        "colab": {
          "base_uri": "https://localhost:8080/"
        },
        "id": "pu3mYvCTqDr_",
        "outputId": "d89dd65f-d673-48da-ba99-55ce0b349b13"
      },
      "source": [
        "X"
      ],
      "execution_count": 6,
      "outputs": [
        {
          "output_type": "execute_result",
          "data": {
            "text/plain": [
              "array([[ 1.1],\n",
              "       [ 1.3],\n",
              "       [ 1.5],\n",
              "       [ 2. ],\n",
              "       [ 2.2],\n",
              "       [ 2.9],\n",
              "       [ 3. ],\n",
              "       [ 3.2],\n",
              "       [ 3.2],\n",
              "       [ 3.7],\n",
              "       [ 3.9],\n",
              "       [ 4. ],\n",
              "       [ 4. ],\n",
              "       [ 4.1],\n",
              "       [ 4.5],\n",
              "       [ 4.9],\n",
              "       [ 5.1],\n",
              "       [ 5.3],\n",
              "       [ 5.9],\n",
              "       [ 6. ],\n",
              "       [ 6.8],\n",
              "       [ 7.1],\n",
              "       [ 7.9],\n",
              "       [ 8.2],\n",
              "       [ 8.7],\n",
              "       [ 9. ],\n",
              "       [ 9.5],\n",
              "       [ 9.6],\n",
              "       [10.3],\n",
              "       [10.5]])"
            ]
          },
          "metadata": {
            "tags": []
          },
          "execution_count": 6
        }
      ]
    },
    {
      "cell_type": "code",
      "metadata": {
        "colab": {
          "base_uri": "https://localhost:8080/"
        },
        "id": "QBggBSDFBmp3",
        "outputId": "63c481a5-f025-465a-9353-dbf7f5649c09"
      },
      "source": [
        "y"
      ],
      "execution_count": 7,
      "outputs": [
        {
          "output_type": "execute_result",
          "data": {
            "text/plain": [
              "array([ 39343.,  46205.,  37731.,  43525.,  39891.,  56642.,  60150.,\n",
              "        54445.,  64445.,  57189.,  63218.,  55794.,  56957.,  57081.,\n",
              "        61111.,  67938.,  66029.,  83088.,  81363.,  93940.,  91738.,\n",
              "        98273., 101302., 113812., 109431., 105582., 116969., 112635.,\n",
              "       122391., 121872.])"
            ]
          },
          "metadata": {
            "tags": []
          },
          "execution_count": 7
        }
      ]
    },
    {
      "cell_type": "markdown",
      "metadata": {
        "id": "rXGA40_-qHSb"
      },
      "source": [
        "#TRAIN TEST MODEL"
      ]
    },
    {
      "cell_type": "code",
      "metadata": {
        "id": "zxHIyHS-GQuk"
      },
      "source": [
        "from sklearn.model_selection import train_test_split\n",
        "X_train,X_test,y_train,y_test=train_test_split(X,y,random_state=101,test_size=1/3)"
      ],
      "execution_count": 69,
      "outputs": []
    },
    {
      "cell_type": "code",
      "metadata": {
        "colab": {
          "base_uri": "https://localhost:8080/"
        },
        "id": "NI6mtsJPoExz",
        "outputId": "0b717558-efa7-43c5-fca1-898e6301c510"
      },
      "source": [
        "X_train"
      ],
      "execution_count": 9,
      "outputs": [
        {
          "output_type": "execute_result",
          "data": {
            "text/plain": [
              "array([[ 3.9],\n",
              "       [ 2. ],\n",
              "       [ 1.3],\n",
              "       [ 6. ],\n",
              "       [ 7.9],\n",
              "       [ 4. ],\n",
              "       [ 2.9],\n",
              "       [ 4.5],\n",
              "       [ 1.1],\n",
              "       [ 7.1],\n",
              "       [ 2.2],\n",
              "       [ 3.2],\n",
              "       [ 4.1],\n",
              "       [ 3.7],\n",
              "       [ 4.9],\n",
              "       [10.5],\n",
              "       [ 8.2],\n",
              "       [ 3. ],\n",
              "       [ 5.3],\n",
              "       [ 4. ]])"
            ]
          },
          "metadata": {
            "tags": []
          },
          "execution_count": 9
        }
      ]
    },
    {
      "cell_type": "code",
      "metadata": {
        "colab": {
          "base_uri": "https://localhost:8080/"
        },
        "id": "B9YEq5ASoO8Z",
        "outputId": "6fb1edb7-ca4d-4993-9fe7-bfc63837a92c"
      },
      "source": [
        "X_test"
      ],
      "execution_count": 10,
      "outputs": [
        {
          "output_type": "execute_result",
          "data": {
            "text/plain": [
              "array([[ 6.8],\n",
              "       [ 8.7],\n",
              "       [ 3.2],\n",
              "       [ 5.9],\n",
              "       [ 1.5],\n",
              "       [ 9.6],\n",
              "       [ 9.5],\n",
              "       [ 5.1],\n",
              "       [ 9. ],\n",
              "       [10.3]])"
            ]
          },
          "metadata": {
            "tags": []
          },
          "execution_count": 10
        }
      ]
    },
    {
      "cell_type": "code",
      "metadata": {
        "colab": {
          "base_uri": "https://localhost:8080/"
        },
        "id": "323oUQz8oS7_",
        "outputId": "d99a6cc4-5c11-4b19-ba18-c7fac3cb1bde"
      },
      "source": [
        "y_train"
      ],
      "execution_count": 11,
      "outputs": [
        {
          "output_type": "execute_result",
          "data": {
            "text/plain": [
              "array([ 63218.,  43525.,  46205.,  93940., 101302.,  56957.,  56642.,\n",
              "        61111.,  39343.,  98273.,  39891.,  64445.,  57081.,  57189.,\n",
              "        67938., 121872., 113812.,  60150.,  83088.,  55794.])"
            ]
          },
          "metadata": {
            "tags": []
          },
          "execution_count": 11
        }
      ]
    },
    {
      "cell_type": "code",
      "metadata": {
        "colab": {
          "base_uri": "https://localhost:8080/"
        },
        "id": "yw5yEwtdoW1L",
        "outputId": "96fb0d8c-8bb7-4819-c2d4-05f4f3138a16"
      },
      "source": [
        "y_test"
      ],
      "execution_count": 12,
      "outputs": [
        {
          "output_type": "execute_result",
          "data": {
            "text/plain": [
              "array([ 91738., 109431.,  54445.,  81363.,  37731., 112635., 116969.,\n",
              "        66029., 105582., 122391.])"
            ]
          },
          "metadata": {
            "tags": []
          },
          "execution_count": 12
        }
      ]
    },
    {
      "cell_type": "markdown",
      "metadata": {
        "id": "kBLpXOyNp60c"
      },
      "source": [
        "#LINEAR REGRESSION"
      ]
    },
    {
      "cell_type": "code",
      "metadata": {
        "id": "a4MLmDf0qAf2"
      },
      "source": [
        "from sklearn.linear_model import LinearRegression\n",
        "model=LinearRegression()"
      ],
      "execution_count": 70,
      "outputs": []
    },
    {
      "cell_type": "markdown",
      "metadata": {
        "id": "PYut1anm2yC-"
      },
      "source": [
        "train the data"
      ]
    },
    {
      "cell_type": "code",
      "metadata": {
        "colab": {
          "base_uri": "https://localhost:8080/"
        },
        "id": "4NQCsOA021gT",
        "outputId": "af7a6480-67c5-4926-b089-90f8e5f6d5c2"
      },
      "source": [
        "model.fit(X_train,y_train)"
      ],
      "execution_count": 71,
      "outputs": [
        {
          "output_type": "execute_result",
          "data": {
            "text/plain": [
              "LinearRegression(copy_X=True, fit_intercept=True, n_jobs=None, normalize=False)"
            ]
          },
          "metadata": {
            "tags": []
          },
          "execution_count": 71
        }
      ]
    },
    {
      "cell_type": "markdown",
      "metadata": {
        "id": "KGdlGp_A3HU1"
      },
      "source": [
        "Predict the data"
      ]
    },
    {
      "cell_type": "code",
      "metadata": {
        "id": "XJGbzNYp3FzK"
      },
      "source": [
        "predict=model.predict(X_test)"
      ],
      "execution_count": 72,
      "outputs": []
    },
    {
      "cell_type": "code",
      "metadata": {
        "colab": {
          "base_uri": "https://localhost:8080/"
        },
        "id": "WF_d9AJU3mM0",
        "outputId": "2de31797-8deb-471e-a313-fa40557a0122"
      },
      "source": [
        "X_test"
      ],
      "execution_count": 16,
      "outputs": [
        {
          "output_type": "execute_result",
          "data": {
            "text/plain": [
              "array([[ 6.8],\n",
              "       [ 8.7],\n",
              "       [ 3.2],\n",
              "       [ 5.9],\n",
              "       [ 1.5],\n",
              "       [ 9.6],\n",
              "       [ 9.5],\n",
              "       [ 5.1],\n",
              "       [ 9. ],\n",
              "       [10.3]])"
            ]
          },
          "metadata": {
            "tags": []
          },
          "execution_count": 16
        }
      ]
    },
    {
      "cell_type": "code",
      "metadata": {
        "colab": {
          "base_uri": "https://localhost:8080/"
        },
        "id": "UAG0A5sF3pxd",
        "outputId": "94029f79-8a18-4d27-e840-2802da89f1ed"
      },
      "source": [
        "y_test"
      ],
      "execution_count": 17,
      "outputs": [
        {
          "output_type": "execute_result",
          "data": {
            "text/plain": [
              "array([ 91738., 109431.,  54445.,  81363.,  37731., 112635., 116969.,\n",
              "        66029., 105582., 122391.])"
            ]
          },
          "metadata": {
            "tags": []
          },
          "execution_count": 17
        }
      ]
    },
    {
      "cell_type": "code",
      "metadata": {
        "colab": {
          "base_uri": "https://localhost:8080/"
        },
        "id": "lx4qbGsr3sIc",
        "outputId": "beecf1b8-2d39-487f-bdc8-d4937708df67"
      },
      "source": [
        "predict"
      ],
      "execution_count": 18,
      "outputs": [
        {
          "output_type": "execute_result",
          "data": {
            "text/plain": [
              "array([ 91477.92796603, 109893.22802466,  56585.7804865 ,  82754.89109615,\n",
              "        40108.93306562, 118616.26489454, 117647.03857567,  75001.08054514,\n",
              "       112800.90698129, 125400.84912667])"
            ]
          },
          "metadata": {
            "tags": []
          },
          "execution_count": 18
        }
      ]
    },
    {
      "cell_type": "code",
      "metadata": {
        "id": "e3ZIGdwN595J"
      },
      "source": [
        "diff=y_test-predict"
      ],
      "execution_count": 73,
      "outputs": []
    },
    {
      "cell_type": "code",
      "metadata": {
        "id": "LayaxFvg6HQA"
      },
      "source": [
        "result=pd.concat([pd.Series(predict),pd.Series(y_test),pd.Series(diff)],axis=1)\n",
        "result.columns=['Prediction','Original data','difference']"
      ],
      "execution_count": 75,
      "outputs": []
    },
    {
      "cell_type": "code",
      "metadata": {
        "colab": {
          "base_uri": "https://localhost:8080/",
          "height": 359
        },
        "id": "mG4IKsnS6zQ9",
        "outputId": "69c6e5df-6263-4166-9bbc-ad21a0aa266f"
      },
      "source": [
        "result"
      ],
      "execution_count": 74,
      "outputs": [
        {
          "output_type": "execute_result",
          "data": {
            "text/html": [
              "<div>\n",
              "<style scoped>\n",
              "    .dataframe tbody tr th:only-of-type {\n",
              "        vertical-align: middle;\n",
              "    }\n",
              "\n",
              "    .dataframe tbody tr th {\n",
              "        vertical-align: top;\n",
              "    }\n",
              "\n",
              "    .dataframe thead th {\n",
              "        text-align: right;\n",
              "    }\n",
              "</style>\n",
              "<table border=\"1\" class=\"dataframe\">\n",
              "  <thead>\n",
              "    <tr style=\"text-align: right;\">\n",
              "      <th></th>\n",
              "      <th>Prediction</th>\n",
              "      <th>Original data</th>\n",
              "      <th>difference</th>\n",
              "    </tr>\n",
              "  </thead>\n",
              "  <tbody>\n",
              "    <tr>\n",
              "      <th>0</th>\n",
              "      <td>98273.0</td>\n",
              "      <td>91738.0</td>\n",
              "      <td>-6535.0</td>\n",
              "    </tr>\n",
              "    <tr>\n",
              "      <th>1</th>\n",
              "      <td>113812.0</td>\n",
              "      <td>109431.0</td>\n",
              "      <td>-4381.0</td>\n",
              "    </tr>\n",
              "    <tr>\n",
              "      <th>2</th>\n",
              "      <td>64445.0</td>\n",
              "      <td>54445.0</td>\n",
              "      <td>-10000.0</td>\n",
              "    </tr>\n",
              "    <tr>\n",
              "      <th>3</th>\n",
              "      <td>93940.0</td>\n",
              "      <td>81363.0</td>\n",
              "      <td>-12577.0</td>\n",
              "    </tr>\n",
              "    <tr>\n",
              "      <th>4</th>\n",
              "      <td>46205.0</td>\n",
              "      <td>37731.0</td>\n",
              "      <td>-8474.0</td>\n",
              "    </tr>\n",
              "    <tr>\n",
              "      <th>5</th>\n",
              "      <td>121872.0</td>\n",
              "      <td>112635.0</td>\n",
              "      <td>-9237.0</td>\n",
              "    </tr>\n",
              "    <tr>\n",
              "      <th>6</th>\n",
              "      <td>121872.0</td>\n",
              "      <td>116969.0</td>\n",
              "      <td>-4903.0</td>\n",
              "    </tr>\n",
              "    <tr>\n",
              "      <th>7</th>\n",
              "      <td>67938.0</td>\n",
              "      <td>66029.0</td>\n",
              "      <td>-1909.0</td>\n",
              "    </tr>\n",
              "    <tr>\n",
              "      <th>8</th>\n",
              "      <td>113812.0</td>\n",
              "      <td>105582.0</td>\n",
              "      <td>-8230.0</td>\n",
              "    </tr>\n",
              "    <tr>\n",
              "      <th>9</th>\n",
              "      <td>121872.0</td>\n",
              "      <td>122391.0</td>\n",
              "      <td>519.0</td>\n",
              "    </tr>\n",
              "  </tbody>\n",
              "</table>\n",
              "</div>"
            ],
            "text/plain": [
              "   Prediction  Original data  difference\n",
              "0     98273.0        91738.0     -6535.0\n",
              "1    113812.0       109431.0     -4381.0\n",
              "2     64445.0        54445.0    -10000.0\n",
              "3     93940.0        81363.0    -12577.0\n",
              "4     46205.0        37731.0     -8474.0\n",
              "5    121872.0       112635.0     -9237.0\n",
              "6    121872.0       116969.0     -4903.0\n",
              "7     67938.0        66029.0     -1909.0\n",
              "8    113812.0       105582.0     -8230.0\n",
              "9    121872.0       122391.0       519.0"
            ]
          },
          "metadata": {
            "tags": []
          },
          "execution_count": 74
        }
      ]
    },
    {
      "cell_type": "code",
      "metadata": {
        "id": "EzX6OTgq-0Vy",
        "colab": {
          "base_uri": "https://localhost:8080/",
          "height": 312
        },
        "outputId": "b5c5c8b3-8cac-4465-b537-533c7fdd3661"
      },
      "source": [
        "plt.scatter(X_train,y_train,color='orange')\n",
        "plt.plot(X_train,model.predict(X_train),color='blue')\n",
        "plt.xlabel('Years of Experience')\n",
        "plt.ylabel('Salary')\n",
        "plt.title('Salary vs Experience : training set')"
      ],
      "execution_count": 22,
      "outputs": [
        {
          "output_type": "execute_result",
          "data": {
            "text/plain": [
              "Text(0.5, 1.0, 'Salary vs Experience : training set')"
            ]
          },
          "metadata": {
            "tags": []
          },
          "execution_count": 22
        },
        {
          "output_type": "display_data",
          "data": {
            "image/png": "[encoded data removed]",
            "text/plain": [
              "<Figure size 432x288 with 1 Axes>"
            ]
          },
          "metadata": {
            "tags": [],
            "needs_background": "light"
          }
        }
      ]
    },
    {
      "cell_type": "code",
      "metadata": {
        "colab": {
          "base_uri": "https://localhost:8080/",
          "height": 312
        },
        "id": "BDDvsyoHvrMo",
        "outputId": "d894116c-8582-48b4-e564-1d567656e66e"
      },
      "source": [
        "plt.scatter(X_test,y_test,color='orange')\n",
        "plt.plot(X_train,model.predict(X_train),color='blue')\n",
        "plt.xlabel('Years of Experience')\n",
        "plt.ylabel('Salary')\n",
        "plt.title('Salary vs Experience : testing set')"
      ],
      "execution_count": 76,
      "outputs": [
        {
          "output_type": "execute_result",
          "data": {
            "text/plain": [
              "Text(0.5, 1.0, 'Salary vs Experience : testing set')"
            ]
          },
          "metadata": {
            "tags": []
          },
          "execution_count": 76
        },
        {
          "output_type": "display_data",
          "data": {
            "image/png": "[encoded data removed]",
            "text/plain": [
              "<Figure size 432x288 with 1 Axes>"
            ]
          },
          "metadata": {
            "tags": [],
            "needs_background": "light"
          }
        }
      ]
    },
    {
      "cell_type": "code",
      "metadata": {
        "id": "fcjYXXIeWgXg"
      },
      "source": [
        "from sklearn import metrics\n",
        "rmse = np.sqrt(metrics.mean_squared_error(y_test,predict))\n",
        "R2=(metrics.r2_score(y_test,predict))"
      ],
      "execution_count": 77,
      "outputs": []
    },
    {
      "cell_type": "code",
      "metadata": {
        "colab": {
          "base_uri": "https://localhost:8080/"
        },
        "id": "wPpJmgY6uwhY",
        "outputId": "ff95fd64-5f03-4e2a-c8e9-12a7880a9995"
      },
      "source": [
        "rmse"
      ],
      "execution_count": 78,
      "outputs": [
        {
          "output_type": "execute_result",
          "data": {
            "text/plain": [
              "4363.043260343273"
            ]
          },
          "metadata": {
            "tags": []
          },
          "execution_count": 78
        }
      ]
    },
    {
      "cell_type": "code",
      "metadata": {
        "colab": {
          "base_uri": "https://localhost:8080/"
        },
        "id": "I0-vK77AXfa_",
        "outputId": "f48b1d92-27a3-4bcc-c6dc-b5cc233389c2"
      },
      "source": [
        "R2"
      ],
      "execution_count": 79,
      "outputs": [
        {
          "output_type": "execute_result",
          "data": {
            "text/plain": [
              "0.974811112371526"
            ]
          },
          "metadata": {
            "tags": []
          },
          "execution_count": 79
        }
      ]
    },
    {
      "cell_type": "code",
      "metadata": {
        "colab": {
          "base_uri": "https://localhost:8080/"
        },
        "id": "kJOerKuJjxVT",
        "outputId": "4c94d176-58cd-41df-93d4-ef0bd498e9f1"
      },
      "source": [
        "model.predict([[3]])"
      ],
      "execution_count": 80,
      "outputs": [
        {
          "output_type": "execute_result",
          "data": {
            "text/plain": [
              "array([54647.32784875])"
            ]
          },
          "metadata": {
            "tags": []
          },
          "execution_count": 80
        }
      ]
    },
    {
      "cell_type": "markdown",
      "metadata": {
        "id": "t8k9jrLln35e"
      },
      "source": [
        "DECISION TREE REGRESSOR"
      ]
    },
    {
      "cell_type": "code",
      "metadata": {
        "id": "SPeTT7w-n8sA"
      },
      "source": [
        "from sklearn.model_selection import train_test_split\r\n",
        "X_train,X_test,y_train,y_test=train_test_split(X,y,random_state=101,test_size=1/3)"
      ],
      "execution_count": 81,
      "outputs": []
    },
    {
      "cell_type": "code",
      "metadata": {
        "id": "VD4O-4oniBDX"
      },
      "source": [
        "from sklearn.tree import DecisionTreeRegressor"
      ],
      "execution_count": 82,
      "outputs": []
    },
    {
      "cell_type": "code",
      "metadata": {
        "id": "IqkcSt1HknGB"
      },
      "source": [
        "DT=DecisionTreeRegressor()"
      ],
      "execution_count": 83,
      "outputs": []
    },
    {
      "cell_type": "code",
      "metadata": {
        "colab": {
          "base_uri": "https://localhost:8080/"
        },
        "id": "FVatOU2mVUYV",
        "outputId": "92afb946-f9d3-4eb7-b8d3-8607db7f465d"
      },
      "source": [
        "DT.fit(X_train,y_train)"
      ],
      "execution_count": 84,
      "outputs": [
        {
          "output_type": "execute_result",
          "data": {
            "text/plain": [
              "DecisionTreeRegressor(ccp_alpha=0.0, criterion='mse', max_depth=None,\n",
              "                      max_features=None, max_leaf_nodes=None,\n",
              "                      min_impurity_decrease=0.0, min_impurity_split=None,\n",
              "                      min_samples_leaf=1, min_samples_split=2,\n",
              "                      min_weight_fraction_leaf=0.0, presort='deprecated',\n",
              "                      random_state=None, splitter='best')"
            ]
          },
          "metadata": {
            "tags": []
          },
          "execution_count": 84
        }
      ]
    },
    {
      "cell_type": "code",
      "metadata": {
        "id": "mkdIfyqzYWUA"
      },
      "source": [
        "y_predict=DT.predict(X_test)"
      ],
      "execution_count": 85,
      "outputs": []
    },
    {
      "cell_type": "code",
      "metadata": {
        "colab": {
          "base_uri": "https://localhost:8080/"
        },
        "id": "e0-APhDyxFta",
        "outputId": "bb23be25-deab-4771-fa9a-db9af954eaad"
      },
      "source": [
        "X_test"
      ],
      "execution_count": 86,
      "outputs": [
        {
          "output_type": "execute_result",
          "data": {
            "text/plain": [
              "array([[ 6.8],\n",
              "       [ 8.7],\n",
              "       [ 3.2],\n",
              "       [ 5.9],\n",
              "       [ 1.5],\n",
              "       [ 9.6],\n",
              "       [ 9.5],\n",
              "       [ 5.1],\n",
              "       [ 9. ],\n",
              "       [10.3]])"
            ]
          },
          "metadata": {
            "tags": []
          },
          "execution_count": 86
        }
      ]
    },
    {
      "cell_type": "code",
      "metadata": {
        "colab": {
          "base_uri": "https://localhost:8080/"
        },
        "id": "F9eFazN8xKIJ",
        "outputId": "ad43e133-2fb7-4fae-ea39-b9f170562e50"
      },
      "source": [
        "y_test"
      ],
      "execution_count": 87,
      "outputs": [
        {
          "output_type": "execute_result",
          "data": {
            "text/plain": [
              "array([ 91738., 109431.,  54445.,  81363.,  37731., 112635., 116969.,\n",
              "        66029., 105582., 122391.])"
            ]
          },
          "metadata": {
            "tags": []
          },
          "execution_count": 87
        }
      ]
    },
    {
      "cell_type": "code",
      "metadata": {
        "colab": {
          "base_uri": "https://localhost:8080/"
        },
        "id": "DmUaLgsmw7OC",
        "outputId": "6db38524-68b3-4158-f359-af7e454586d5"
      },
      "source": [
        "y_predict"
      ],
      "execution_count": 88,
      "outputs": [
        {
          "output_type": "execute_result",
          "data": {
            "text/plain": [
              "array([ 98273., 113812.,  64445.,  93940.,  46205., 121872., 121872.,\n",
              "        67938., 113812., 121872.])"
            ]
          },
          "metadata": {
            "tags": []
          },
          "execution_count": 88
        }
      ]
    },
    {
      "cell_type": "code",
      "metadata": {
        "id": "IhZNEvUExNnZ"
      },
      "source": [
        "diff_DT=y_test - y_predict"
      ],
      "execution_count": 89,
      "outputs": []
    },
    {
      "cell_type": "code",
      "metadata": {
        "colab": {
          "base_uri": "https://localhost:8080/"
        },
        "id": "8h02wZ0MxZ0r",
        "outputId": "013f5173-5020-433c-e221-5cfeeacdb64a"
      },
      "source": [
        "diff_DT"
      ],
      "execution_count": 90,
      "outputs": [
        {
          "output_type": "execute_result",
          "data": {
            "text/plain": [
              "array([ -6535.,  -4381., -10000., -12577.,  -8474.,  -9237.,  -4903.,\n",
              "        -1909.,  -8230.,    519.])"
            ]
          },
          "metadata": {
            "tags": []
          },
          "execution_count": 90
        }
      ]
    },
    {
      "cell_type": "code",
      "metadata": {
        "id": "jijQs3HYxoFF"
      },
      "source": [
        "result=pd.concat([pd.Series(y_predict),pd.Series(y_test),pd.Series(diff_DT)],axis=1)\r\n",
        "result.columns=['Prediction','Original data','difference']"
      ],
      "execution_count": 91,
      "outputs": []
    },
    {
      "cell_type": "code",
      "metadata": {
        "colab": {
          "base_uri": "https://localhost:8080/",
          "height": 359
        },
        "id": "uqiJwDgWxoTb",
        "outputId": "6d13669a-afbc-4847-f8e5-55a9df971067"
      },
      "source": [
        "result"
      ],
      "execution_count": 92,
      "outputs": [
        {
          "output_type": "execute_result",
          "data": {
            "text/html": [
              "<div>\n",
              "<style scoped>\n",
              "    .dataframe tbody tr th:only-of-type {\n",
              "        vertical-align: middle;\n",
              "    }\n",
              "\n",
              "    .dataframe tbody tr th {\n",
              "        vertical-align: top;\n",
              "    }\n",
              "\n",
              "    .dataframe thead th {\n",
              "        text-align: right;\n",
              "    }\n",
              "</style>\n",
              "<table border=\"1\" class=\"dataframe\">\n",
              "  <thead>\n",
              "    <tr style=\"text-align: right;\">\n",
              "      <th></th>\n",
              "      <th>Prediction</th>\n",
              "      <th>Original data</th>\n",
              "      <th>difference</th>\n",
              "    </tr>\n",
              "  </thead>\n",
              "  <tbody>\n",
              "    <tr>\n",
              "      <th>0</th>\n",
              "      <td>98273.0</td>\n",
              "      <td>91738.0</td>\n",
              "      <td>-6535.0</td>\n",
              "    </tr>\n",
              "    <tr>\n",
              "      <th>1</th>\n",
              "      <td>113812.0</td>\n",
              "      <td>109431.0</td>\n",
              "      <td>-4381.0</td>\n",
              "    </tr>\n",
              "    <tr>\n",
              "      <th>2</th>\n",
              "      <td>64445.0</td>\n",
              "      <td>54445.0</td>\n",
              "      <td>-10000.0</td>\n",
              "    </tr>\n",
              "    <tr>\n",
              "      <th>3</th>\n",
              "      <td>93940.0</td>\n",
              "      <td>81363.0</td>\n",
              "      <td>-12577.0</td>\n",
              "    </tr>\n",
              "    <tr>\n",
              "      <th>4</th>\n",
              "      <td>46205.0</td>\n",
              "      <td>37731.0</td>\n",
              "      <td>-8474.0</td>\n",
              "    </tr>\n",
              "    <tr>\n",
              "      <th>5</th>\n",
              "      <td>121872.0</td>\n",
              "      <td>112635.0</td>\n",
              "      <td>-9237.0</td>\n",
              "    </tr>\n",
              "    <tr>\n",
              "      <th>6</th>\n",
              "      <td>121872.0</td>\n",
              "      <td>116969.0</td>\n",
              "      <td>-4903.0</td>\n",
              "    </tr>\n",
              "    <tr>\n",
              "      <th>7</th>\n",
              "      <td>67938.0</td>\n",
              "      <td>66029.0</td>\n",
              "      <td>-1909.0</td>\n",
              "    </tr>\n",
              "    <tr>\n",
              "      <th>8</th>\n",
              "      <td>113812.0</td>\n",
              "      <td>105582.0</td>\n",
              "      <td>-8230.0</td>\n",
              "    </tr>\n",
              "    <tr>\n",
              "      <th>9</th>\n",
              "      <td>121872.0</td>\n",
              "      <td>122391.0</td>\n",
              "      <td>519.0</td>\n",
              "    </tr>\n",
              "  </tbody>\n",
              "</table>\n",
              "</div>"
            ],
            "text/plain": [
              "   Prediction  Original data  difference\n",
              "0     98273.0        91738.0     -6535.0\n",
              "1    113812.0       109431.0     -4381.0\n",
              "2     64445.0        54445.0    -10000.0\n",
              "3     93940.0        81363.0    -12577.0\n",
              "4     46205.0        37731.0     -8474.0\n",
              "5    121872.0       112635.0     -9237.0\n",
              "6    121872.0       116969.0     -4903.0\n",
              "7     67938.0        66029.0     -1909.0\n",
              "8    113812.0       105582.0     -8230.0\n",
              "9    121872.0       122391.0       519.0"
            ]
          },
          "metadata": {
            "tags": []
          },
          "execution_count": 92
        }
      ]
    },
    {
      "cell_type": "code",
      "metadata": {
        "id": "ROSPB9XFyIBs"
      },
      "source": [
        "from sklearn import metrics\r\n",
        "rmse=np.sqrt(metrics.mean_squared_error(y_test,y_predict))\r\n",
        "R2=(metrics.r2_score(y_test,y_predict))"
      ],
      "execution_count": 93,
      "outputs": []
    },
    {
      "cell_type": "code",
      "metadata": {
        "colab": {
          "base_uri": "https://localhost:8080/"
        },
        "id": "H6cb12rMyzn2",
        "outputId": "ec4154d2-0093-411a-931b-8bcbb6cc7f7c"
      },
      "source": [
        "rmse"
      ],
      "execution_count": 58,
      "outputs": [
        {
          "output_type": "execute_result",
          "data": {
            "text/plain": [
              "7568.996703658947"
            ]
          },
          "metadata": {
            "tags": []
          },
          "execution_count": 58
        }
      ]
    },
    {
      "cell_type": "code",
      "metadata": {
        "colab": {
          "base_uri": "https://localhost:8080/"
        },
        "id": "CW10qzj8y03o",
        "outputId": "e56608b0-a5ce-417e-c293-761bb2f92b27"
      },
      "source": [
        "R2"
      ],
      "execution_count": 94,
      "outputs": [
        {
          "output_type": "execute_result",
          "data": {
            "text/plain": [
              "0.9241934760377903"
            ]
          },
          "metadata": {
            "tags": []
          },
          "execution_count": 94
        }
      ]
    },
    {
      "cell_type": "code",
      "metadata": {
        "id": "DAWj-Lbuy5Fq"
      },
      "source": [
        "from sklearn import tree\r\n",
        "text=tree.export_text(DT)\r\n"
      ],
      "execution_count": 95,
      "outputs": []
    },
    {
      "cell_type": "code",
      "metadata": {
        "colab": {
          "base_uri": "https://localhost:8080/"
        },
        "id": "7cXp-CeNzSvS",
        "outputId": "1de82459-19bc-4fb0-8338-d8c22bf4294e"
      },
      "source": [
        "print(text)"
      ],
      "execution_count": 61,
      "outputs": [
        {
          "output_type": "stream",
          "text": [
            "|--- feature_0 <= 5.10\n",
            "|   |--- feature_0 <= 2.55\n",
            "|   |   |--- feature_0 <= 1.20\n",
            "|   |   |   |--- value: [39343.00]\n",
            "|   |   |--- feature_0 >  1.20\n",
            "|   |   |   |--- feature_0 <= 2.10\n",
            "|   |   |   |   |--- feature_0 <= 1.65\n",
            "|   |   |   |   |   |--- value: [46205.00]\n",
            "|   |   |   |   |--- feature_0 >  1.65\n",
            "|   |   |   |   |   |--- value: [43525.00]\n",
            "|   |   |   |--- feature_0 >  2.10\n",
            "|   |   |   |   |--- value: [39891.00]\n",
            "|   |--- feature_0 >  2.55\n",
            "|   |   |--- feature_0 <= 4.70\n",
            "|   |   |   |--- feature_0 <= 3.95\n",
            "|   |   |   |   |--- feature_0 <= 2.95\n",
            "|   |   |   |   |   |--- value: [56642.00]\n",
            "|   |   |   |   |--- feature_0 >  2.95\n",
            "|   |   |   |   |   |--- feature_0 <= 3.80\n",
            "|   |   |   |   |   |   |--- feature_0 <= 3.45\n",
            "|   |   |   |   |   |   |   |--- feature_0 <= 3.10\n",
            "|   |   |   |   |   |   |   |   |--- value: [60150.00]\n",
            "|   |   |   |   |   |   |   |--- feature_0 >  3.10\n",
            "|   |   |   |   |   |   |   |   |--- value: [64445.00]\n",
            "|   |   |   |   |   |   |--- feature_0 >  3.45\n",
            "|   |   |   |   |   |   |   |--- value: [57189.00]\n",
            "|   |   |   |   |   |--- feature_0 >  3.80\n",
            "|   |   |   |   |   |   |--- value: [63218.00]\n",
            "|   |   |   |--- feature_0 >  3.95\n",
            "|   |   |   |   |--- feature_0 <= 4.30\n",
            "|   |   |   |   |   |--- feature_0 <= 4.05\n",
            "|   |   |   |   |   |   |--- value: [56375.50]\n",
            "|   |   |   |   |   |--- feature_0 >  4.05\n",
            "|   |   |   |   |   |   |--- value: [57081.00]\n",
            "|   |   |   |   |--- feature_0 >  4.30\n",
            "|   |   |   |   |   |--- value: [61111.00]\n",
            "|   |   |--- feature_0 >  4.70\n",
            "|   |   |   |--- value: [67938.00]\n",
            "|--- feature_0 >  5.10\n",
            "|   |--- feature_0 <= 8.05\n",
            "|   |   |--- feature_0 <= 5.65\n",
            "|   |   |   |--- value: [83088.00]\n",
            "|   |   |--- feature_0 >  5.65\n",
            "|   |   |   |--- feature_0 <= 6.55\n",
            "|   |   |   |   |--- value: [93940.00]\n",
            "|   |   |   |--- feature_0 >  6.55\n",
            "|   |   |   |   |--- feature_0 <= 7.50\n",
            "|   |   |   |   |   |--- value: [98273.00]\n",
            "|   |   |   |   |--- feature_0 >  7.50\n",
            "|   |   |   |   |   |--- value: [101302.00]\n",
            "|   |--- feature_0 >  8.05\n",
            "|   |   |--- feature_0 <= 9.35\n",
            "|   |   |   |--- value: [113812.00]\n",
            "|   |   |--- feature_0 >  9.35\n",
            "|   |   |   |--- value: [121872.00]\n",
            "\n"
          ],
          "name": "stdout"
        }
      ]
    },
    {
      "cell_type": "code",
      "metadata": {
        "colab": {
          "base_uri": "https://localhost:8080/",
          "height": 683
        },
        "id": "5lGe6qwozY6Y",
        "outputId": "dd904091-208f-4f8b-a040-e994c9691a25"
      },
      "source": [
        "fig=plt.figure(figsize=(12,12))\r\n",
        "_=tree.plot_tree(DT,feature_names=df['YearsExperience'],filled=True)"
      ],
      "execution_count": 98,
      "outputs": [
        {
          "output_type": "display_data",
          "data": {
            "image/png": "[encoded data removed]",
            "text/plain": [
              "<Figure size 864x864 with 1 Axes>"
            ]
          },
          "metadata": {
            "tags": [],
            "needs_background": "light"
          }
        }
      ]
    },
    {
      "cell_type": "code",
      "metadata": {
        "id": "u9kI2C7Y0_8k"
      },
      "source": [
        ""
      ],
      "execution_count": 100,
      "outputs": []
    }
  ]
}